{
  "nbformat": 4,
  "nbformat_minor": 0,
  "metadata": {
    "colab": {
      "provenance": [],
      "authorship_tag": "ABX9TyPhjoTp82AMl4HVw1xrUxjL",
      "include_colab_link": true
    },
    "kernelspec": {
      "name": "python3",
      "display_name": "Python 3"
    },
    "language_info": {
      "name": "python"
    }
  },
  "cells": [
    {
      "cell_type": "markdown",
      "metadata": {
        "id": "view-in-github",
        "colab_type": "text"
      },
      "source": [
        "<a href=\"https://colab.research.google.com/github/parviz-khosravi/Imputed/blob/main/ImputationF.ipynb\" target=\"_parent\"><img src=\"https://colab.research.google.com/assets/colab-badge.svg\" alt=\"Open In Colab\"/></a>"
      ]
    },
    {
      "cell_type": "code",
      "execution_count": 1,
      "metadata": {
        "id": "T1mlcB7er95l"
      },
      "outputs": [],
      "source": [
        "import pandas as pd\n",
        "import numpy as np\n",
        "from sklearn.metrics import mean_squared_error\n",
        "from sklearn.metrics import r2_score\n",
        "import matplotlib.pyplot as plt\n",
        "from sklearn.model_selection import train_test_split"
      ]
    },
    {
      "cell_type": "code",
      "source": [
        "# Load file of Rain_Debi_Max\n",
        "from google.colab import files\n",
        "uploaded = files.upload()"
      ],
      "metadata": {
        "id": "KilU2Z8sxVWm",
        "outputId": "7052b141-6e5d-4e6f-cd6d-6eab6ffe5e03",
        "colab": {
          "base_uri": "https://localhost:8080/",
          "height": 73
        }
      },
      "execution_count": 2,
      "outputs": [
        {
          "output_type": "display_data",
          "data": {
            "text/plain": [
              "<IPython.core.display.HTML object>"
            ],
            "text/html": [
              "\n",
              "     <input type=\"file\" id=\"files-3adb03d3-d6fb-4861-a62c-2b24fa562d20\" name=\"files[]\" multiple disabled\n",
              "        style=\"border:none\" />\n",
              "     <output id=\"result-3adb03d3-d6fb-4861-a62c-2b24fa562d20\">\n",
              "      Upload widget is only available when the cell has been executed in the\n",
              "      current browser session. Please rerun this cell to enable.\n",
              "      </output>\n",
              "      <script>// Copyright 2017 Google LLC\n",
              "//\n",
              "// Licensed under the Apache License, Version 2.0 (the \"License\");\n",
              "// you may not use this file except in compliance with the License.\n",
              "// You may obtain a copy of the License at\n",
              "//\n",
              "//      http://www.apache.org/licenses/LICENSE-2.0\n",
              "//\n",
              "// Unless required by applicable law or agreed to in writing, software\n",
              "// distributed under the License is distributed on an \"AS IS\" BASIS,\n",
              "// WITHOUT WARRANTIES OR CONDITIONS OF ANY KIND, either express or implied.\n",
              "// See the License for the specific language governing permissions and\n",
              "// limitations under the License.\n",
              "\n",
              "/**\n",
              " * @fileoverview Helpers for google.colab Python module.\n",
              " */\n",
              "(function(scope) {\n",
              "function span(text, styleAttributes = {}) {\n",
              "  const element = document.createElement('span');\n",
              "  element.textContent = text;\n",
              "  for (const key of Object.keys(styleAttributes)) {\n",
              "    element.style[key] = styleAttributes[key];\n",
              "  }\n",
              "  return element;\n",
              "}\n",
              "\n",
              "// Max number of bytes which will be uploaded at a time.\n",
              "const MAX_PAYLOAD_SIZE = 100 * 1024;\n",
              "\n",
              "function _uploadFiles(inputId, outputId) {\n",
              "  const steps = uploadFilesStep(inputId, outputId);\n",
              "  const outputElement = document.getElementById(outputId);\n",
              "  // Cache steps on the outputElement to make it available for the next call\n",
              "  // to uploadFilesContinue from Python.\n",
              "  outputElement.steps = steps;\n",
              "\n",
              "  return _uploadFilesContinue(outputId);\n",
              "}\n",
              "\n",
              "// This is roughly an async generator (not supported in the browser yet),\n",
              "// where there are multiple asynchronous steps and the Python side is going\n",
              "// to poll for completion of each step.\n",
              "// This uses a Promise to block the python side on completion of each step,\n",
              "// then passes the result of the previous step as the input to the next step.\n",
              "function _uploadFilesContinue(outputId) {\n",
              "  const outputElement = document.getElementById(outputId);\n",
              "  const steps = outputElement.steps;\n",
              "\n",
              "  const next = steps.next(outputElement.lastPromiseValue);\n",
              "  return Promise.resolve(next.value.promise).then((value) => {\n",
              "    // Cache the last promise value to make it available to the next\n",
              "    // step of the generator.\n",
              "    outputElement.lastPromiseValue = value;\n",
              "    return next.value.response;\n",
              "  });\n",
              "}\n",
              "\n",
              "/**\n",
              " * Generator function which is called between each async step of the upload\n",
              " * process.\n",
              " * @param {string} inputId Element ID of the input file picker element.\n",
              " * @param {string} outputId Element ID of the output display.\n",
              " * @return {!Iterable<!Object>} Iterable of next steps.\n",
              " */\n",
              "function* uploadFilesStep(inputId, outputId) {\n",
              "  const inputElement = document.getElementById(inputId);\n",
              "  inputElement.disabled = false;\n",
              "\n",
              "  const outputElement = document.getElementById(outputId);\n",
              "  outputElement.innerHTML = '';\n",
              "\n",
              "  const pickedPromise = new Promise((resolve) => {\n",
              "    inputElement.addEventListener('change', (e) => {\n",
              "      resolve(e.target.files);\n",
              "    });\n",
              "  });\n",
              "\n",
              "  const cancel = document.createElement('button');\n",
              "  inputElement.parentElement.appendChild(cancel);\n",
              "  cancel.textContent = 'Cancel upload';\n",
              "  const cancelPromise = new Promise((resolve) => {\n",
              "    cancel.onclick = () => {\n",
              "      resolve(null);\n",
              "    };\n",
              "  });\n",
              "\n",
              "  // Wait for the user to pick the files.\n",
              "  const files = yield {\n",
              "    promise: Promise.race([pickedPromise, cancelPromise]),\n",
              "    response: {\n",
              "      action: 'starting',\n",
              "    }\n",
              "  };\n",
              "\n",
              "  cancel.remove();\n",
              "\n",
              "  // Disable the input element since further picks are not allowed.\n",
              "  inputElement.disabled = true;\n",
              "\n",
              "  if (!files) {\n",
              "    return {\n",
              "      response: {\n",
              "        action: 'complete',\n",
              "      }\n",
              "    };\n",
              "  }\n",
              "\n",
              "  for (const file of files) {\n",
              "    const li = document.createElement('li');\n",
              "    li.append(span(file.name, {fontWeight: 'bold'}));\n",
              "    li.append(span(\n",
              "        `(${file.type || 'n/a'}) - ${file.size} bytes, ` +\n",
              "        `last modified: ${\n",
              "            file.lastModifiedDate ? file.lastModifiedDate.toLocaleDateString() :\n",
              "                                    'n/a'} - `));\n",
              "    const percent = span('0% done');\n",
              "    li.appendChild(percent);\n",
              "\n",
              "    outputElement.appendChild(li);\n",
              "\n",
              "    const fileDataPromise = new Promise((resolve) => {\n",
              "      const reader = new FileReader();\n",
              "      reader.onload = (e) => {\n",
              "        resolve(e.target.result);\n",
              "      };\n",
              "      reader.readAsArrayBuffer(file);\n",
              "    });\n",
              "    // Wait for the data to be ready.\n",
              "    let fileData = yield {\n",
              "      promise: fileDataPromise,\n",
              "      response: {\n",
              "        action: 'continue',\n",
              "      }\n",
              "    };\n",
              "\n",
              "    // Use a chunked sending to avoid message size limits. See b/62115660.\n",
              "    let position = 0;\n",
              "    do {\n",
              "      const length = Math.min(fileData.byteLength - position, MAX_PAYLOAD_SIZE);\n",
              "      const chunk = new Uint8Array(fileData, position, length);\n",
              "      position += length;\n",
              "\n",
              "      const base64 = btoa(String.fromCharCode.apply(null, chunk));\n",
              "      yield {\n",
              "        response: {\n",
              "          action: 'append',\n",
              "          file: file.name,\n",
              "          data: base64,\n",
              "        },\n",
              "      };\n",
              "\n",
              "      let percentDone = fileData.byteLength === 0 ?\n",
              "          100 :\n",
              "          Math.round((position / fileData.byteLength) * 100);\n",
              "      percent.textContent = `${percentDone}% done`;\n",
              "\n",
              "    } while (position < fileData.byteLength);\n",
              "  }\n",
              "\n",
              "  // All done.\n",
              "  yield {\n",
              "    response: {\n",
              "      action: 'complete',\n",
              "    }\n",
              "  };\n",
              "}\n",
              "\n",
              "scope.google = scope.google || {};\n",
              "scope.google.colab = scope.google.colab || {};\n",
              "scope.google.colab._files = {\n",
              "  _uploadFiles,\n",
              "  _uploadFilesContinue,\n",
              "};\n",
              "})(self);\n",
              "</script> "
            ]
          },
          "metadata": {}
        },
        {
          "output_type": "stream",
          "name": "stdout",
          "text": [
            "Saving Rain_Debi_Max.csv to Rain_Debi_Max.csv\n"
          ]
        }
      ]
    },
    {
      "cell_type": "code",
      "source": [
        "# Load Dataset of Rain_Debi_Max\n",
        "Data0 = pd.read_csv('Rain_Debi_Max.csv')"
      ],
      "metadata": {
        "id": "ApKGyFl1xfG9"
      },
      "execution_count": 3,
      "outputs": []
    },
    {
      "cell_type": "code",
      "source": [
        "# Load file of Pirdan_NaN\n",
        "from google.colab import files\n",
        "uploaded = files.upload()"
      ],
      "metadata": {
        "colab": {
          "base_uri": "https://localhost:8080/",
          "height": 73
        },
        "id": "LMGKZUnUoj_2",
        "outputId": "664d966c-2029-45f9-db7c-103d275b9790"
      },
      "execution_count": 41,
      "outputs": [
        {
          "output_type": "display_data",
          "data": {
            "text/plain": [
              "<IPython.core.display.HTML object>"
            ],
            "text/html": [
              "\n",
              "     <input type=\"file\" id=\"files-8c52720a-756e-44ba-b285-4ceb942730d8\" name=\"files[]\" multiple disabled\n",
              "        style=\"border:none\" />\n",
              "     <output id=\"result-8c52720a-756e-44ba-b285-4ceb942730d8\">\n",
              "      Upload widget is only available when the cell has been executed in the\n",
              "      current browser session. Please rerun this cell to enable.\n",
              "      </output>\n",
              "      <script>// Copyright 2017 Google LLC\n",
              "//\n",
              "// Licensed under the Apache License, Version 2.0 (the \"License\");\n",
              "// you may not use this file except in compliance with the License.\n",
              "// You may obtain a copy of the License at\n",
              "//\n",
              "//      http://www.apache.org/licenses/LICENSE-2.0\n",
              "//\n",
              "// Unless required by applicable law or agreed to in writing, software\n",
              "// distributed under the License is distributed on an \"AS IS\" BASIS,\n",
              "// WITHOUT WARRANTIES OR CONDITIONS OF ANY KIND, either express or implied.\n",
              "// See the License for the specific language governing permissions and\n",
              "// limitations under the License.\n",
              "\n",
              "/**\n",
              " * @fileoverview Helpers for google.colab Python module.\n",
              " */\n",
              "(function(scope) {\n",
              "function span(text, styleAttributes = {}) {\n",
              "  const element = document.createElement('span');\n",
              "  element.textContent = text;\n",
              "  for (const key of Object.keys(styleAttributes)) {\n",
              "    element.style[key] = styleAttributes[key];\n",
              "  }\n",
              "  return element;\n",
              "}\n",
              "\n",
              "// Max number of bytes which will be uploaded at a time.\n",
              "const MAX_PAYLOAD_SIZE = 100 * 1024;\n",
              "\n",
              "function _uploadFiles(inputId, outputId) {\n",
              "  const steps = uploadFilesStep(inputId, outputId);\n",
              "  const outputElement = document.getElementById(outputId);\n",
              "  // Cache steps on the outputElement to make it available for the next call\n",
              "  // to uploadFilesContinue from Python.\n",
              "  outputElement.steps = steps;\n",
              "\n",
              "  return _uploadFilesContinue(outputId);\n",
              "}\n",
              "\n",
              "// This is roughly an async generator (not supported in the browser yet),\n",
              "// where there are multiple asynchronous steps and the Python side is going\n",
              "// to poll for completion of each step.\n",
              "// This uses a Promise to block the python side on completion of each step,\n",
              "// then passes the result of the previous step as the input to the next step.\n",
              "function _uploadFilesContinue(outputId) {\n",
              "  const outputElement = document.getElementById(outputId);\n",
              "  const steps = outputElement.steps;\n",
              "\n",
              "  const next = steps.next(outputElement.lastPromiseValue);\n",
              "  return Promise.resolve(next.value.promise).then((value) => {\n",
              "    // Cache the last promise value to make it available to the next\n",
              "    // step of the generator.\n",
              "    outputElement.lastPromiseValue = value;\n",
              "    return next.value.response;\n",
              "  });\n",
              "}\n",
              "\n",
              "/**\n",
              " * Generator function which is called between each async step of the upload\n",
              " * process.\n",
              " * @param {string} inputId Element ID of the input file picker element.\n",
              " * @param {string} outputId Element ID of the output display.\n",
              " * @return {!Iterable<!Object>} Iterable of next steps.\n",
              " */\n",
              "function* uploadFilesStep(inputId, outputId) {\n",
              "  const inputElement = document.getElementById(inputId);\n",
              "  inputElement.disabled = false;\n",
              "\n",
              "  const outputElement = document.getElementById(outputId);\n",
              "  outputElement.innerHTML = '';\n",
              "\n",
              "  const pickedPromise = new Promise((resolve) => {\n",
              "    inputElement.addEventListener('change', (e) => {\n",
              "      resolve(e.target.files);\n",
              "    });\n",
              "  });\n",
              "\n",
              "  const cancel = document.createElement('button');\n",
              "  inputElement.parentElement.appendChild(cancel);\n",
              "  cancel.textContent = 'Cancel upload';\n",
              "  const cancelPromise = new Promise((resolve) => {\n",
              "    cancel.onclick = () => {\n",
              "      resolve(null);\n",
              "    };\n",
              "  });\n",
              "\n",
              "  // Wait for the user to pick the files.\n",
              "  const files = yield {\n",
              "    promise: Promise.race([pickedPromise, cancelPromise]),\n",
              "    response: {\n",
              "      action: 'starting',\n",
              "    }\n",
              "  };\n",
              "\n",
              "  cancel.remove();\n",
              "\n",
              "  // Disable the input element since further picks are not allowed.\n",
              "  inputElement.disabled = true;\n",
              "\n",
              "  if (!files) {\n",
              "    return {\n",
              "      response: {\n",
              "        action: 'complete',\n",
              "      }\n",
              "    };\n",
              "  }\n",
              "\n",
              "  for (const file of files) {\n",
              "    const li = document.createElement('li');\n",
              "    li.append(span(file.name, {fontWeight: 'bold'}));\n",
              "    li.append(span(\n",
              "        `(${file.type || 'n/a'}) - ${file.size} bytes, ` +\n",
              "        `last modified: ${\n",
              "            file.lastModifiedDate ? file.lastModifiedDate.toLocaleDateString() :\n",
              "                                    'n/a'} - `));\n",
              "    const percent = span('0% done');\n",
              "    li.appendChild(percent);\n",
              "\n",
              "    outputElement.appendChild(li);\n",
              "\n",
              "    const fileDataPromise = new Promise((resolve) => {\n",
              "      const reader = new FileReader();\n",
              "      reader.onload = (e) => {\n",
              "        resolve(e.target.result);\n",
              "      };\n",
              "      reader.readAsArrayBuffer(file);\n",
              "    });\n",
              "    // Wait for the data to be ready.\n",
              "    let fileData = yield {\n",
              "      promise: fileDataPromise,\n",
              "      response: {\n",
              "        action: 'continue',\n",
              "      }\n",
              "    };\n",
              "\n",
              "    // Use a chunked sending to avoid message size limits. See b/62115660.\n",
              "    let position = 0;\n",
              "    do {\n",
              "      const length = Math.min(fileData.byteLength - position, MAX_PAYLOAD_SIZE);\n",
              "      const chunk = new Uint8Array(fileData, position, length);\n",
              "      position += length;\n",
              "\n",
              "      const base64 = btoa(String.fromCharCode.apply(null, chunk));\n",
              "      yield {\n",
              "        response: {\n",
              "          action: 'append',\n",
              "          file: file.name,\n",
              "          data: base64,\n",
              "        },\n",
              "      };\n",
              "\n",
              "      let percentDone = fileData.byteLength === 0 ?\n",
              "          100 :\n",
              "          Math.round((position / fileData.byteLength) * 100);\n",
              "      percent.textContent = `${percentDone}% done`;\n",
              "\n",
              "    } while (position < fileData.byteLength);\n",
              "  }\n",
              "\n",
              "  // All done.\n",
              "  yield {\n",
              "    response: {\n",
              "      action: 'complete',\n",
              "    }\n",
              "  };\n",
              "}\n",
              "\n",
              "scope.google = scope.google || {};\n",
              "scope.google.colab = scope.google.colab || {};\n",
              "scope.google.colab._files = {\n",
              "  _uploadFiles,\n",
              "  _uploadFilesContinue,\n",
              "};\n",
              "})(self);\n",
              "</script> "
            ]
          },
          "metadata": {}
        },
        {
          "output_type": "stream",
          "name": "stdout",
          "text": [
            "Saving Pirdan_NaN.csv to Pirdan_NaN (3).csv\n"
          ]
        }
      ]
    },
    {
      "cell_type": "code",
      "source": [
        "# Load Dataset of Pirdan_NaN\n",
        "Data = pd.read_csv('Pirdan_NaN (3).csv')"
      ],
      "metadata": {
        "id": "eKoai37Ei-Kf"
      },
      "execution_count": 42,
      "outputs": []
    },
    {
      "cell_type": "code",
      "source": [
        "# Imputing by IterativeImputer\n",
        "\n",
        "from sklearn.experimental import enable_iterative_imputer\n",
        "from sklearn.impute import IterativeImputer\n",
        "\n",
        "imp = IterativeImputer(max_iter=10, random_state=0)\n",
        "imp.fit(Data.iloc[:, 71:78])\n",
        "\n",
        "Data_imp = pd.DataFrame(imp.transform(Data.iloc[:, 71:78]))\n",
        "\n"
      ],
      "metadata": {
        "id": "NVpQIiEPc9y6",
        "outputId": "b4659fcd-e277-4173-e0cd-d130434be85f",
        "colab": {
          "base_uri": "https://localhost:8080/"
        }
      },
      "execution_count": null,
      "outputs": [
        {
          "output_type": "stream",
          "name": "stderr",
          "text": [
            "/usr/local/lib/python3.10/dist-packages/sklearn/impute/_iterative.py:785: ConvergenceWarning: [IterativeImputer] Early stopping criterion not reached.\n",
            "  warnings.warn(\n"
          ]
        }
      ]
    },
    {
      "cell_type": "code",
      "source": [
        "# Imputing 20 random missing values\n",
        "\n",
        "print('1096: ', 'Real Value: ', np.array(Data0.iloc[1096:1097, 77:78]), 'Imputed Value: ', np.array(Data_imp.iloc[1096:1097, 6:7]))\n",
        "print('1279: ', 'Real Value: ', np.array(Data0.iloc[1279:1280, 77:78]), 'Imputed Value: ', np.array(Data_imp.iloc[1279:1280, 6:7]))\n",
        "print('1737: ', 'Real Value: ', np.array(Data0.iloc[1737:1738, 77:78]), 'Imputed Value: ', np.array(Data_imp.iloc[1737:1738, 6:7]))\n",
        "print('3330: ', 'Real Value: ', np.array(Data0.iloc[3330:3331, 77:78]), 'Imputed Value: ', np.array(Data_imp.iloc[3330:3331, 6:7]))\n",
        "print('3624: ', 'Real Value: ', np.array(Data0.iloc[3624:3625, 77:78]), 'Imputed Value: ', np.array(Data_imp.iloc[3624:3625, 6:7]))\n",
        "print('4315: ', 'Real Value: ', np.array(Data0.iloc[4315:4316, 77:78]), 'Imputed Value: ', np.array(Data_imp.iloc[4315:4316, 6:7]))\n",
        "print('4533: ', 'Real Value: ', np.array(Data0.iloc[4533:4534, 77:78]), 'Imputed Value: ', np.array(Data_imp.iloc[4533:4534, 6:7]))\n",
        "print('5300: ', 'Real Value: ', np.array(Data0.iloc[5300:5301, 77:78]), 'Imputed Value: ', np.array(Data_imp.iloc[5300:5301, 6:7]))\n",
        "print('5358: ', 'Real Value: ', np.array(Data0.iloc[5358:5359, 77:78]), 'Imputed Value: ', np.array(Data_imp.iloc[5358:5359, 6:7]))\n",
        "print('6700: ', 'Real Value: ', np.array(Data0.iloc[6700:6701, 77:78]), 'Imputed Value: ', np.array(Data_imp.iloc[6700:6701, 6:7]))\n",
        "print('7577: ', 'Real Value: ', np.array(Data0.iloc[7577:7578, 77:78]), 'Imputed Value: ', np.array(Data_imp.iloc[7577:7578, 6:7]))\n",
        "print('9431: ', 'Real Value: ', np.array(Data0.iloc[9431:9432, 77:78]), 'Imputed Value: ', np.array(Data_imp.iloc[9431:9432, 6:7]))\n",
        "print('11934: ', 'Real Value: ', np.array(Data0.iloc[11934:11935, 77:78]), 'Imputed Value: ', np.array(Data_imp.iloc[11934:11935, 6:7]))\n",
        "print('12802: ', 'Real Value: ', np.array(Data0.iloc[12802:12803, 77:78]), 'Imputed Value: ', np.array(Data_imp.iloc[12802:12803, 6:7]))\n",
        "print('12975: ', 'Real Value: ', np.array(Data0.iloc[12975:12976, 77:78]), 'Imputed Value: ', np.array(Data_imp.iloc[12975:12976, 6:7]))\n",
        "print('13567: ', 'Real Value: ', np.array(Data0.iloc[13567:13568, 77:78]), 'Imputed Value: ', np.array(Data_imp.iloc[13567:13568, 6:7]))\n",
        "print('13672: ', 'Real Value: ', np.array(Data0.iloc[13672:13673, 77:78]), 'Imputed Value: ', np.array(Data_imp.iloc[13672:13673, 6:7]))\n",
        "print('14832: ', 'Real Value: ', np.array(Data0.iloc[14832:14833, 77:78]), 'Imputed Value: ', np.array(Data_imp.iloc[14832:14833, 6:7]))\n",
        "print('16293: ', 'Real Value: ', np.array(Data0.iloc[16293:16294, 77:78]), 'Imputed Value: ', np.array(Data_imp.iloc[16293:16294, 6:7]))\n"
      ],
      "metadata": {
        "id": "ib_CI4TXMg8Y"
      },
      "execution_count": null,
      "outputs": []
    },
    {
      "cell_type": "code",
      "source": [
        "# Final output file for IterativeImputer\n",
        "from google.colab import files\n",
        "Data_imp.to_csv('Iter.csv', encoding = 'utf-8-sig')\n",
        "files.download('Iter.csv')"
      ],
      "metadata": {
        "id": "aPKuNKnkBSED"
      },
      "execution_count": null,
      "outputs": []
    },
    {
      "cell_type": "code",
      "source": [
        "pip install MissForest"
      ],
      "metadata": {
        "id": "S9D1ChaFfvow",
        "outputId": "1a37bb1e-f9ae-4ac2-e192-80d2f80c6abb",
        "colab": {
          "base_uri": "https://localhost:8080/"
        }
      },
      "execution_count": null,
      "outputs": [
        {
          "output_type": "stream",
          "name": "stdout",
          "text": [
            "Collecting MissForest\n",
            "  Downloading MissForest-2.0.0-py3-none-any.whl (4.7 kB)\n",
            "Installing collected packages: MissForest\n",
            "Successfully installed MissForest-2.0.0\n"
          ]
        }
      ]
    },
    {
      "cell_type": "code",
      "source": [
        "# Imputing by MissForest\n",
        "from missforest.missforest import MissForest\n",
        "mf = MissForest()\n",
        "Data_imp = mf.fit_transform(Data.iloc[:, 71:78])"
      ],
      "metadata": {
        "id": "K6zM23lh3i7v"
      },
      "execution_count": null,
      "outputs": []
    },
    {
      "cell_type": "code",
      "source": [
        "# Imputing 20 random missing values\n",
        "\n",
        "print('1096: ', 'Real Value: ', np.array(Data0.iloc[1096:1097, 77:78]), 'Imputed Value: ', np.array(Data_imp.iloc[1096:1097, 6:7]))\n",
        "print('1279: ', 'Real Value: ', np.array(Data0.iloc[1279:1280, 77:78]), 'Imputed Value: ', np.array(Data_imp.iloc[1279:1280, 6:7]))\n",
        "print('1737: ', 'Real Value: ', np.array(Data0.iloc[1737:1738, 77:78]), 'Imputed Value: ', np.array(Data_imp.iloc[1737:1738, 6:7]))\n",
        "print('3330: ', 'Real Value: ', np.array(Data0.iloc[3330:3331, 77:78]), 'Imputed Value: ', np.array(Data_imp.iloc[3330:3331, 6:7]))\n",
        "print('3624: ', 'Real Value: ', np.array(Data0.iloc[3624:3625, 77:78]), 'Imputed Value: ', np.array(Data_imp.iloc[3624:3625, 6:7]))\n",
        "print('4315: ', 'Real Value: ', np.array(Data0.iloc[4315:4316, 77:78]), 'Imputed Value: ', np.array(Data_imp.iloc[4315:4316, 6:7]))\n",
        "print('4533: ', 'Real Value: ', np.array(Data0.iloc[4533:4534, 77:78]), 'Imputed Value: ', np.array(Data_imp.iloc[4533:4534, 6:7]))\n",
        "print('5300: ', 'Real Value: ', np.array(Data0.iloc[5300:5301, 77:78]), 'Imputed Value: ', np.array(Data_imp.iloc[5300:5301, 6:7]))\n",
        "print('5358: ', 'Real Value: ', np.array(Data0.iloc[5358:5359, 77:78]), 'Imputed Value: ', np.array(Data_imp.iloc[5358:5359, 6:7]))\n",
        "print('6700: ', 'Real Value: ', np.array(Data0.iloc[6700:6701, 77:78]), 'Imputed Value: ', np.array(Data_imp.iloc[6700:6701, 6:7]))\n",
        "print('7577: ', 'Real Value: ', np.array(Data0.iloc[7577:7578, 77:78]), 'Imputed Value: ', np.array(Data_imp.iloc[7577:7578, 6:7]))\n",
        "print('9431: ', 'Real Value: ', np.array(Data0.iloc[9431:9432, 77:78]), 'Imputed Value: ', np.array(Data_imp.iloc[9431:9432, 6:7]))\n",
        "print('11934: ', 'Real Value: ', np.array(Data0.iloc[11934:11935, 77:78]), 'Imputed Value: ', np.array(Data_imp.iloc[11934:11935, 6:7]))\n",
        "print('12802: ', 'Real Value: ', np.array(Data0.iloc[12802:12803, 77:78]), 'Imputed Value: ', np.array(Data_imp.iloc[12802:12803, 6:7]))\n",
        "print('12975: ', 'Real Value: ', np.array(Data0.iloc[12975:12976, 77:78]), 'Imputed Value: ', np.array(Data_imp.iloc[12975:12976, 6:7]))\n",
        "print('13567: ', 'Real Value: ', np.array(Data0.iloc[13567:13568, 77:78]), 'Imputed Value: ', np.array(Data_imp.iloc[13567:13568, 6:7]))\n",
        "print('13672: ', 'Real Value: ', np.array(Data0.iloc[13672:13673, 77:78]), 'Imputed Value: ', np.array(Data_imp.iloc[13672:13673, 6:7]))\n",
        "print('14832: ', 'Real Value: ', np.array(Data0.iloc[14832:14833, 77:78]), 'Imputed Value: ', np.array(Data_imp.iloc[14832:14833, 6:7]))\n",
        "print('16293: ', 'Real Value: ', np.array(Data0.iloc[16293:16294, 77:78]), 'Imputed Value: ', np.array(Data_imp.iloc[16293:16294, 6:7]))\n"
      ],
      "metadata": {
        "id": "GH8fyQeTDUIQ"
      },
      "execution_count": null,
      "outputs": []
    },
    {
      "cell_type": "code",
      "source": [
        "# Final output file for MissForest\n",
        "from google.colab import files\n",
        "Data_imp.to_csv('MF.csv', encoding = 'utf-8-sig')\n",
        "files.download('MF.csv')"
      ],
      "metadata": {
        "id": "73LvWjpONFG7"
      },
      "execution_count": null,
      "outputs": []
    },
    {
      "cell_type": "markdown",
      "source": [],
      "metadata": {
        "id": "O_myE15XC2BS"
      }
    },
    {
      "cell_type": "code",
      "source": [
        "pip install verstack"
      ],
      "metadata": {
        "id": "hpvOtRoyNnF1",
        "outputId": "79a806f9-d75e-4d74-ed44-7493f5eb2aac",
        "colab": {
          "base_uri": "https://localhost:8080/"
        }
      },
      "execution_count": 6,
      "outputs": [
        {
          "output_type": "stream",
          "name": "stdout",
          "text": [
            "Collecting verstack\n",
            "  Downloading verstack-3.8.12.tar.gz (10.1 MB)\n",
            "\u001b[2K     \u001b[90m━━━━━━━━━━━━━━━━━━━━━━━━━━━━━━━━━━━━━━━━\u001b[0m \u001b[32m10.1/10.1 MB\u001b[0m \u001b[31m18.5 MB/s\u001b[0m eta \u001b[36m0:00:00\u001b[0m\n",
            "\u001b[?25h  Preparing metadata (setup.py) ... \u001b[?25l\u001b[?25hdone\n",
            "Requirement already satisfied: numpy in /usr/local/lib/python3.10/dist-packages (from verstack) (1.23.5)\n",
            "Requirement already satisfied: pandas in /usr/local/lib/python3.10/dist-packages (from verstack) (1.5.3)\n",
            "Requirement already satisfied: xgboost in /usr/local/lib/python3.10/dist-packages (from verstack) (2.0.0)\n",
            "Requirement already satisfied: scikit-learn<=1.2.2,>=0.23.2 in /usr/local/lib/python3.10/dist-packages (from verstack) (1.2.2)\n",
            "Requirement already satisfied: lightgbm<=4.0.0,>=3.3.0 in /usr/local/lib/python3.10/dist-packages (from verstack) (4.0.0)\n",
            "Collecting optuna<=3.2.0,>=2.10.0 (from verstack)\n",
            "  Downloading optuna-3.2.0-py3-none-any.whl (390 kB)\n",
            "\u001b[2K     \u001b[90m━━━━━━━━━━━━━━━━━━━━━━━━━━━━━━━━━━━━━━━━\u001b[0m \u001b[32m390.6/390.6 kB\u001b[0m \u001b[31m35.1 MB/s\u001b[0m eta \u001b[36m0:00:00\u001b[0m\n",
            "\u001b[?25hCollecting plotly<=5.11.0,>=5.3.1 (from verstack)\n",
            "  Downloading plotly-5.11.0-py2.py3-none-any.whl (15.3 MB)\n",
            "\u001b[2K     \u001b[90m━━━━━━━━━━━━━━━━━━━━━━━━━━━━━━━━━━━━━━━━\u001b[0m \u001b[32m15.3/15.3 MB\u001b[0m \u001b[31m55.5 MB/s\u001b[0m eta \u001b[36m0:00:00\u001b[0m\n",
            "\u001b[?25hRequirement already satisfied: matplotlib in /usr/local/lib/python3.10/dist-packages (from verstack) (3.7.1)\n",
            "Requirement already satisfied: seaborn in /usr/local/lib/python3.10/dist-packages (from verstack) (0.12.2)\n",
            "Requirement already satisfied: python-dateutil<=2.8.2,>=2.8.1 in /usr/local/lib/python3.10/dist-packages (from verstack) (2.8.2)\n",
            "Collecting holidays==0.11.3.1 (from verstack)\n",
            "  Downloading holidays-0.11.3.1-py3-none-any.whl (155 kB)\n",
            "\u001b[2K     \u001b[90m━━━━━━━━━━━━━━━━━━━━━━━━━━━━━━━━━━━━━━━━\u001b[0m \u001b[32m155.7/155.7 kB\u001b[0m \u001b[31m20.1 MB/s\u001b[0m eta \u001b[36m0:00:00\u001b[0m\n",
            "\u001b[?25hRequirement already satisfied: mlxtend in /usr/local/lib/python3.10/dist-packages (from verstack) (0.22.0)\n",
            "Requirement already satisfied: tensorflow<=2.14,>=2.6.0 in /usr/local/lib/python3.10/dist-packages (from verstack) (2.13.0)\n",
            "Requirement already satisfied: keras<=2.14,>=2.6.0 in /usr/local/lib/python3.10/dist-packages (from verstack) (2.13.1)\n",
            "Collecting category_encoders<=2.5.1,>=2.4.0 (from verstack)\n",
            "  Downloading category_encoders-2.5.1-py2.py3-none-any.whl (71 kB)\n",
            "\u001b[2K     \u001b[90m━━━━━━━━━━━━━━━━━━━━━━━━━━━━━━━━━━━━━━━━\u001b[0m \u001b[32m71.3/71.3 kB\u001b[0m \u001b[31m8.9 MB/s\u001b[0m eta \u001b[36m0:00:00\u001b[0m\n",
            "\u001b[?25hCollecting convertdate>=2.3.0 (from holidays==0.11.3.1->verstack)\n",
            "  Downloading convertdate-2.4.0-py3-none-any.whl (47 kB)\n",
            "\u001b[2K     \u001b[90m━━━━━━━━━━━━━━━━━━━━━━━━━━━━━━━━━━━━━━━━\u001b[0m \u001b[32m47.9/47.9 kB\u001b[0m \u001b[31m6.2 MB/s\u001b[0m eta \u001b[36m0:00:00\u001b[0m\n",
            "\u001b[?25hCollecting hijri-converter (from holidays==0.11.3.1->verstack)\n",
            "  Downloading hijri_converter-2.3.1-py3-none-any.whl (13 kB)\n",
            "Collecting korean-lunar-calendar (from holidays==0.11.3.1->verstack)\n",
            "  Downloading korean_lunar_calendar-0.3.1-py3-none-any.whl (9.0 kB)\n",
            "Requirement already satisfied: scipy>=1.0.0 in /usr/local/lib/python3.10/dist-packages (from category_encoders<=2.5.1,>=2.4.0->verstack) (1.11.3)\n",
            "Requirement already satisfied: statsmodels>=0.9.0 in /usr/local/lib/python3.10/dist-packages (from category_encoders<=2.5.1,>=2.4.0->verstack) (0.14.0)\n",
            "Requirement already satisfied: patsy>=0.5.1 in /usr/local/lib/python3.10/dist-packages (from category_encoders<=2.5.1,>=2.4.0->verstack) (0.5.3)\n",
            "Collecting alembic>=1.5.0 (from optuna<=3.2.0,>=2.10.0->verstack)\n",
            "  Downloading alembic-1.12.0-py3-none-any.whl (226 kB)\n",
            "\u001b[2K     \u001b[90m━━━━━━━━━━━━━━━━━━━━━━━━━━━━━━━━━━━━━━━━\u001b[0m \u001b[32m226.0/226.0 kB\u001b[0m \u001b[31m20.7 MB/s\u001b[0m eta \u001b[36m0:00:00\u001b[0m\n",
            "\u001b[?25hCollecting cmaes>=0.9.1 (from optuna<=3.2.0,>=2.10.0->verstack)\n",
            "  Downloading cmaes-0.10.0-py3-none-any.whl (29 kB)\n",
            "Collecting colorlog (from optuna<=3.2.0,>=2.10.0->verstack)\n",
            "  Downloading colorlog-6.7.0-py2.py3-none-any.whl (11 kB)\n",
            "Requirement already satisfied: packaging>=20.0 in /usr/local/lib/python3.10/dist-packages (from optuna<=3.2.0,>=2.10.0->verstack) (23.2)\n",
            "Requirement already satisfied: sqlalchemy>=1.3.0 in /usr/local/lib/python3.10/dist-packages (from optuna<=3.2.0,>=2.10.0->verstack) (2.0.21)\n",
            "Requirement already satisfied: tqdm in /usr/local/lib/python3.10/dist-packages (from optuna<=3.2.0,>=2.10.0->verstack) (4.66.1)\n",
            "Requirement already satisfied: PyYAML in /usr/local/lib/python3.10/dist-packages (from optuna<=3.2.0,>=2.10.0->verstack) (6.0.1)\n",
            "Requirement already satisfied: pytz>=2020.1 in /usr/local/lib/python3.10/dist-packages (from pandas->verstack) (2023.3.post1)\n",
            "Requirement already satisfied: tenacity>=6.2.0 in /usr/local/lib/python3.10/dist-packages (from plotly<=5.11.0,>=5.3.1->verstack) (8.2.3)\n",
            "Requirement already satisfied: six>=1.5 in /usr/local/lib/python3.10/dist-packages (from python-dateutil<=2.8.2,>=2.8.1->verstack) (1.16.0)\n",
            "Requirement already satisfied: joblib>=1.1.1 in /usr/local/lib/python3.10/dist-packages (from scikit-learn<=1.2.2,>=0.23.2->verstack) (1.3.2)\n",
            "Requirement already satisfied: threadpoolctl>=2.0.0 in /usr/local/lib/python3.10/dist-packages (from scikit-learn<=1.2.2,>=0.23.2->verstack) (3.2.0)\n",
            "Requirement already satisfied: absl-py>=1.0.0 in /usr/local/lib/python3.10/dist-packages (from tensorflow<=2.14,>=2.6.0->verstack) (1.4.0)\n",
            "Requirement already satisfied: astunparse>=1.6.0 in /usr/local/lib/python3.10/dist-packages (from tensorflow<=2.14,>=2.6.0->verstack) (1.6.3)\n",
            "Requirement already satisfied: flatbuffers>=23.1.21 in /usr/local/lib/python3.10/dist-packages (from tensorflow<=2.14,>=2.6.0->verstack) (23.5.26)\n",
            "Requirement already satisfied: gast<=0.4.0,>=0.2.1 in /usr/local/lib/python3.10/dist-packages (from tensorflow<=2.14,>=2.6.0->verstack) (0.4.0)\n",
            "Requirement already satisfied: google-pasta>=0.1.1 in /usr/local/lib/python3.10/dist-packages (from tensorflow<=2.14,>=2.6.0->verstack) (0.2.0)\n",
            "Requirement already satisfied: grpcio<2.0,>=1.24.3 in /usr/local/lib/python3.10/dist-packages (from tensorflow<=2.14,>=2.6.0->verstack) (1.59.0)\n",
            "Requirement already satisfied: h5py>=2.9.0 in /usr/local/lib/python3.10/dist-packages (from tensorflow<=2.14,>=2.6.0->verstack) (3.9.0)\n",
            "Requirement already satisfied: libclang>=13.0.0 in /usr/local/lib/python3.10/dist-packages (from tensorflow<=2.14,>=2.6.0->verstack) (16.0.6)\n",
            "Requirement already satisfied: opt-einsum>=2.3.2 in /usr/local/lib/python3.10/dist-packages (from tensorflow<=2.14,>=2.6.0->verstack) (3.3.0)\n",
            "Requirement already satisfied: protobuf!=4.21.0,!=4.21.1,!=4.21.2,!=4.21.3,!=4.21.4,!=4.21.5,<5.0.0dev,>=3.20.3 in /usr/local/lib/python3.10/dist-packages (from tensorflow<=2.14,>=2.6.0->verstack) (3.20.3)\n",
            "Requirement already satisfied: setuptools in /usr/local/lib/python3.10/dist-packages (from tensorflow<=2.14,>=2.6.0->verstack) (67.7.2)\n",
            "Requirement already satisfied: tensorboard<2.14,>=2.13 in /usr/local/lib/python3.10/dist-packages (from tensorflow<=2.14,>=2.6.0->verstack) (2.13.0)\n",
            "Requirement already satisfied: tensorflow-estimator<2.14,>=2.13.0 in /usr/local/lib/python3.10/dist-packages (from tensorflow<=2.14,>=2.6.0->verstack) (2.13.0)\n",
            "Requirement already satisfied: termcolor>=1.1.0 in /usr/local/lib/python3.10/dist-packages (from tensorflow<=2.14,>=2.6.0->verstack) (2.3.0)\n",
            "Requirement already satisfied: typing-extensions<4.6.0,>=3.6.6 in /usr/local/lib/python3.10/dist-packages (from tensorflow<=2.14,>=2.6.0->verstack) (4.5.0)\n",
            "Requirement already satisfied: wrapt>=1.11.0 in /usr/local/lib/python3.10/dist-packages (from tensorflow<=2.14,>=2.6.0->verstack) (1.15.0)\n",
            "Requirement already satisfied: tensorflow-io-gcs-filesystem>=0.23.1 in /usr/local/lib/python3.10/dist-packages (from tensorflow<=2.14,>=2.6.0->verstack) (0.34.0)\n",
            "Requirement already satisfied: contourpy>=1.0.1 in /usr/local/lib/python3.10/dist-packages (from matplotlib->verstack) (1.1.1)\n",
            "Requirement already satisfied: cycler>=0.10 in /usr/local/lib/python3.10/dist-packages (from matplotlib->verstack) (0.12.1)\n",
            "Requirement already satisfied: fonttools>=4.22.0 in /usr/local/lib/python3.10/dist-packages (from matplotlib->verstack) (4.43.1)\n",
            "Requirement already satisfied: kiwisolver>=1.0.1 in /usr/local/lib/python3.10/dist-packages (from matplotlib->verstack) (1.4.5)\n",
            "Requirement already satisfied: pillow>=6.2.0 in /usr/local/lib/python3.10/dist-packages (from matplotlib->verstack) (9.4.0)\n",
            "Requirement already satisfied: pyparsing>=2.3.1 in /usr/local/lib/python3.10/dist-packages (from matplotlib->verstack) (3.1.1)\n",
            "Collecting Mako (from alembic>=1.5.0->optuna<=3.2.0,>=2.10.0->verstack)\n",
            "  Downloading Mako-1.2.4-py3-none-any.whl (78 kB)\n",
            "\u001b[2K     \u001b[90m━━━━━━━━━━━━━━━━━━━━━━━━━━━━━━━━━━━━━━━━\u001b[0m \u001b[32m78.7/78.7 kB\u001b[0m \u001b[31m8.0 MB/s\u001b[0m eta \u001b[36m0:00:00\u001b[0m\n",
            "\u001b[?25hRequirement already satisfied: wheel<1.0,>=0.23.0 in /usr/local/lib/python3.10/dist-packages (from astunparse>=1.6.0->tensorflow<=2.14,>=2.6.0->verstack) (0.41.2)\n",
            "Collecting pymeeus<=1,>=0.3.13 (from convertdate>=2.3.0->holidays==0.11.3.1->verstack)\n",
            "  Downloading PyMeeus-0.5.12.tar.gz (5.8 MB)\n",
            "\u001b[2K     \u001b[90m━━━━━━━━━━━━━━━━━━━━━━━━━━━━━━━━━━━━━━━━\u001b[0m \u001b[32m5.8/5.8 MB\u001b[0m \u001b[31m75.3 MB/s\u001b[0m eta \u001b[36m0:00:00\u001b[0m\n",
            "\u001b[?25h  Preparing metadata (setup.py) ... \u001b[?25l\u001b[?25hdone\n",
            "Requirement already satisfied: greenlet!=0.4.17 in /usr/local/lib/python3.10/dist-packages (from sqlalchemy>=1.3.0->optuna<=3.2.0,>=2.10.0->verstack) (3.0.0)\n",
            "Requirement already satisfied: google-auth<3,>=1.6.3 in /usr/local/lib/python3.10/dist-packages (from tensorboard<2.14,>=2.13->tensorflow<=2.14,>=2.6.0->verstack) (2.17.3)\n",
            "Requirement already satisfied: google-auth-oauthlib<1.1,>=0.5 in /usr/local/lib/python3.10/dist-packages (from tensorboard<2.14,>=2.13->tensorflow<=2.14,>=2.6.0->verstack) (1.0.0)\n",
            "Requirement already satisfied: markdown>=2.6.8 in /usr/local/lib/python3.10/dist-packages (from tensorboard<2.14,>=2.13->tensorflow<=2.14,>=2.6.0->verstack) (3.5)\n",
            "Requirement already satisfied: requests<3,>=2.21.0 in /usr/local/lib/python3.10/dist-packages (from tensorboard<2.14,>=2.13->tensorflow<=2.14,>=2.6.0->verstack) (2.31.0)\n",
            "Requirement already satisfied: tensorboard-data-server<0.8.0,>=0.7.0 in /usr/local/lib/python3.10/dist-packages (from tensorboard<2.14,>=2.13->tensorflow<=2.14,>=2.6.0->verstack) (0.7.1)\n",
            "Requirement already satisfied: werkzeug>=1.0.1 in /usr/local/lib/python3.10/dist-packages (from tensorboard<2.14,>=2.13->tensorflow<=2.14,>=2.6.0->verstack) (3.0.0)\n",
            "Requirement already satisfied: cachetools<6.0,>=2.0.0 in /usr/local/lib/python3.10/dist-packages (from google-auth<3,>=1.6.3->tensorboard<2.14,>=2.13->tensorflow<=2.14,>=2.6.0->verstack) (5.3.1)\n",
            "Requirement already satisfied: pyasn1-modules>=0.2.1 in /usr/local/lib/python3.10/dist-packages (from google-auth<3,>=1.6.3->tensorboard<2.14,>=2.13->tensorflow<=2.14,>=2.6.0->verstack) (0.3.0)\n",
            "Requirement already satisfied: rsa<5,>=3.1.4 in /usr/local/lib/python3.10/dist-packages (from google-auth<3,>=1.6.3->tensorboard<2.14,>=2.13->tensorflow<=2.14,>=2.6.0->verstack) (4.9)\n",
            "Requirement already satisfied: requests-oauthlib>=0.7.0 in /usr/local/lib/python3.10/dist-packages (from google-auth-oauthlib<1.1,>=0.5->tensorboard<2.14,>=2.13->tensorflow<=2.14,>=2.6.0->verstack) (1.3.1)\n",
            "Requirement already satisfied: charset-normalizer<4,>=2 in /usr/local/lib/python3.10/dist-packages (from requests<3,>=2.21.0->tensorboard<2.14,>=2.13->tensorflow<=2.14,>=2.6.0->verstack) (3.3.0)\n",
            "Requirement already satisfied: idna<4,>=2.5 in /usr/local/lib/python3.10/dist-packages (from requests<3,>=2.21.0->tensorboard<2.14,>=2.13->tensorflow<=2.14,>=2.6.0->verstack) (3.4)\n",
            "Requirement already satisfied: urllib3<3,>=1.21.1 in /usr/local/lib/python3.10/dist-packages (from requests<3,>=2.21.0->tensorboard<2.14,>=2.13->tensorflow<=2.14,>=2.6.0->verstack) (2.0.6)\n",
            "Requirement already satisfied: certifi>=2017.4.17 in /usr/local/lib/python3.10/dist-packages (from requests<3,>=2.21.0->tensorboard<2.14,>=2.13->tensorflow<=2.14,>=2.6.0->verstack) (2023.7.22)\n",
            "Requirement already satisfied: MarkupSafe>=2.1.1 in /usr/local/lib/python3.10/dist-packages (from werkzeug>=1.0.1->tensorboard<2.14,>=2.13->tensorflow<=2.14,>=2.6.0->verstack) (2.1.3)\n",
            "Requirement already satisfied: pyasn1<0.6.0,>=0.4.6 in /usr/local/lib/python3.10/dist-packages (from pyasn1-modules>=0.2.1->google-auth<3,>=1.6.3->tensorboard<2.14,>=2.13->tensorflow<=2.14,>=2.6.0->verstack) (0.5.0)\n",
            "Requirement already satisfied: oauthlib>=3.0.0 in /usr/local/lib/python3.10/dist-packages (from requests-oauthlib>=0.7.0->google-auth-oauthlib<1.1,>=0.5->tensorboard<2.14,>=2.13->tensorflow<=2.14,>=2.6.0->verstack) (3.2.2)\n",
            "Building wheels for collected packages: verstack, pymeeus\n",
            "  Building wheel for verstack (setup.py) ... \u001b[?25l\u001b[?25hdone\n",
            "  Created wheel for verstack: filename=verstack-3.8.12-py3-none-any.whl size=80768 sha256=14b461b242c519960e889ab9d459206e6641c0ac2fbda57a418e645dc40f06b6\n",
            "  Stored in directory: /root/.cache/pip/wheels/b9/b1/f1/9a5b72c9f73c84ce95bd88fe09706079b23afde0185ff869e8\n",
            "  Building wheel for pymeeus (setup.py) ... \u001b[?25l\u001b[?25hdone\n",
            "  Created wheel for pymeeus: filename=PyMeeus-0.5.12-py3-none-any.whl size=732000 sha256=04158e926ac43f78ba40e2abec800f0e22f340fa7afbcfcb6f17da2bd21c9125\n",
            "  Stored in directory: /root/.cache/pip/wheels/d6/67/78/aa2e8d108639dd23a5e9e72a4fc88bb44f5541894382712f48\n",
            "Successfully built verstack pymeeus\n",
            "Installing collected packages: pymeeus, korean-lunar-calendar, plotly, Mako, hijri-converter, convertdate, colorlog, cmaes, holidays, alembic, optuna, category_encoders, verstack\n",
            "  Attempting uninstall: plotly\n",
            "    Found existing installation: plotly 5.15.0\n",
            "    Uninstalling plotly-5.15.0:\n",
            "      Successfully uninstalled plotly-5.15.0\n",
            "  Attempting uninstall: holidays\n",
            "    Found existing installation: holidays 0.34\n",
            "    Uninstalling holidays-0.34:\n",
            "      Successfully uninstalled holidays-0.34\n",
            "\u001b[31mERROR: pip's dependency resolver does not currently take into account all the packages that are installed. This behaviour is the source of the following dependency conflicts.\n",
            "prophet 1.1.5 requires holidays>=0.25, but you have holidays 0.11.3.1 which is incompatible.\u001b[0m\u001b[31m\n",
            "\u001b[0mSuccessfully installed Mako-1.2.4 alembic-1.12.0 category_encoders-2.5.1 cmaes-0.10.0 colorlog-6.7.0 convertdate-2.4.0 hijri-converter-2.3.1 holidays-0.11.3.1 korean-lunar-calendar-0.3.1 optuna-3.2.0 plotly-5.11.0 pymeeus-0.5.12 verstack-3.8.12\n"
          ]
        }
      ]
    },
    {
      "cell_type": "code",
      "source": [
        "# Imputing by verstack XGB\n",
        "\n",
        "from verstack import NaNImputer\n",
        "\n",
        "imp = NaNImputer()\n",
        "Data_imp = imp.impute(Data.iloc[:, 71:78])"
      ],
      "metadata": {
        "id": "iH0iwIn9bAO-",
        "outputId": "8cbb644f-42d4-4a47-b119-670445a2ef45",
        "colab": {
          "base_uri": "https://localhost:8080/"
        }
      },
      "execution_count": 39,
      "outputs": [
        {
          "output_type": "stream",
          "name": "stdout",
          "text": [
            "\n",
            " * Initiating NaNImputer.impute\n",
            "     . Dataset dimensions:\n",
            "     .. rows:         16801\n",
            "     .. columns:      7\n",
            "     .. mb in memory: 0.9\n",
            "     .. NaN cols num: 7\n",
            "\n",
            "   - Drop hopeless NaN cols\n",
            "\n",
            "   - droped column Bahokalat with NaNs and a constant non-NaN value\n",
            "\n",
            "   - droped column Kahir with NaNs and a constant non-NaN value\n",
            "\n",
            "   - droped column Karyani with NaNs and a constant non-NaN value\n",
            "\n",
            "   - Processing whole data for imputation\n",
            "\n",
            "   - Imputing single core 4 cols\n",
            "     . Imputed (regression) - 7815     NaN in Pishin\n",
            "     . Imputed (regression) - 7954     NaN in Pirsohrab\n",
            "     . Imputed (regression) - 6904     NaN in Chandokan-Qasrqand\n",
            "     . Imputed (regression) - 2945     NaN in Pirdan\n",
            "\n",
            "   - Missing values after imputation: 0\n",
            "\n",
            "Time elapsed for impute execution: 1.59077 seconds\n"
          ]
        }
      ]
    },
    {
      "cell_type": "code",
      "source": [
        "# Final output file for Verstack\n",
        "from google.colab import files\n",
        "Data_imp.to_csv('Ver.csv', encoding = 'utf-8-sig')\n",
        "files.download('Ver.csv')"
      ],
      "metadata": {
        "outputId": "cf60aef5-d888-4f0f-e09a-5c76ca5ac51c",
        "colab": {
          "base_uri": "https://localhost:8080/",
          "height": 17
        },
        "id": "bwPMkXbk__Bi"
      },
      "execution_count": 40,
      "outputs": [
        {
          "output_type": "display_data",
          "data": {
            "text/plain": [
              "<IPython.core.display.Javascript object>"
            ],
            "application/javascript": [
              "\n",
              "    async function download(id, filename, size) {\n",
              "      if (!google.colab.kernel.accessAllowed) {\n",
              "        return;\n",
              "      }\n",
              "      const div = document.createElement('div');\n",
              "      const label = document.createElement('label');\n",
              "      label.textContent = `Downloading \"${filename}\": `;\n",
              "      div.appendChild(label);\n",
              "      const progress = document.createElement('progress');\n",
              "      progress.max = size;\n",
              "      div.appendChild(progress);\n",
              "      document.body.appendChild(div);\n",
              "\n",
              "      const buffers = [];\n",
              "      let downloaded = 0;\n",
              "\n",
              "      const channel = await google.colab.kernel.comms.open(id);\n",
              "      // Send a message to notify the kernel that we're ready.\n",
              "      channel.send({})\n",
              "\n",
              "      for await (const message of channel.messages) {\n",
              "        // Send a message to notify the kernel that we're ready.\n",
              "        channel.send({})\n",
              "        if (message.buffers) {\n",
              "          for (const buffer of message.buffers) {\n",
              "            buffers.push(buffer);\n",
              "            downloaded += buffer.byteLength;\n",
              "            progress.value = downloaded;\n",
              "          }\n",
              "        }\n",
              "      }\n",
              "      const blob = new Blob(buffers, {type: 'application/binary'});\n",
              "      const a = document.createElement('a');\n",
              "      a.href = window.URL.createObjectURL(blob);\n",
              "      a.download = filename;\n",
              "      div.appendChild(a);\n",
              "      a.click();\n",
              "      div.remove();\n",
              "    }\n",
              "  "
            ]
          },
          "metadata": {}
        },
        {
          "output_type": "display_data",
          "data": {
            "text/plain": [
              "<IPython.core.display.Javascript object>"
            ],
            "application/javascript": [
              "download(\"download_ed2e3142-23fa-42b1-8051-8fb30708b9f0\", \"Ver.csv\", 765081)"
            ]
          },
          "metadata": {}
        }
      ]
    },
    {
      "cell_type": "code",
      "source": [
        "# Imputing by KNN\n",
        "\n",
        "from sklearn.impute import KNNImputer\n",
        "\n",
        "imp = KNNImputer(n_neighbors=5, weights='uniform', metric='nan_euclidean')\n",
        "imp.fit(Data.iloc[:, 3:78])\n",
        "Data_imp = pd.DataFrame(imp.transform(Data.iloc[:, 3:78]))"
      ],
      "metadata": {
        "id": "7kpcfefWwmE6"
      },
      "execution_count": 47,
      "outputs": []
    },
    {
      "cell_type": "code",
      "source": [
        "# Final output file for KNN\n",
        "from google.colab import files\n",
        "Data_imp.to_csv('KNN.csv', encoding = 'utf-8-sig')\n",
        "files.download('KNN.csv')"
      ],
      "metadata": {
        "outputId": "4db5597f-1376-4048-ef0a-e1a977a9227f",
        "colab": {
          "base_uri": "https://localhost:8080/",
          "height": 17
        },
        "id": "bbAxgdtbzfCT"
      },
      "execution_count": 48,
      "outputs": [
        {
          "output_type": "display_data",
          "data": {
            "text/plain": [
              "<IPython.core.display.Javascript object>"
            ],
            "application/javascript": [
              "\n",
              "    async function download(id, filename, size) {\n",
              "      if (!google.colab.kernel.accessAllowed) {\n",
              "        return;\n",
              "      }\n",
              "      const div = document.createElement('div');\n",
              "      const label = document.createElement('label');\n",
              "      label.textContent = `Downloading \"${filename}\": `;\n",
              "      div.appendChild(label);\n",
              "      const progress = document.createElement('progress');\n",
              "      progress.max = size;\n",
              "      div.appendChild(progress);\n",
              "      document.body.appendChild(div);\n",
              "\n",
              "      const buffers = [];\n",
              "      let downloaded = 0;\n",
              "\n",
              "      const channel = await google.colab.kernel.comms.open(id);\n",
              "      // Send a message to notify the kernel that we're ready.\n",
              "      channel.send({})\n",
              "\n",
              "      for await (const message of channel.messages) {\n",
              "        // Send a message to notify the kernel that we're ready.\n",
              "        channel.send({})\n",
              "        if (message.buffers) {\n",
              "          for (const buffer of message.buffers) {\n",
              "            buffers.push(buffer);\n",
              "            downloaded += buffer.byteLength;\n",
              "            progress.value = downloaded;\n",
              "          }\n",
              "        }\n",
              "      }\n",
              "      const blob = new Blob(buffers, {type: 'application/binary'});\n",
              "      const a = document.createElement('a');\n",
              "      a.href = window.URL.createObjectURL(blob);\n",
              "      a.download = filename;\n",
              "      div.appendChild(a);\n",
              "      a.click();\n",
              "      div.remove();\n",
              "    }\n",
              "  "
            ]
          },
          "metadata": {}
        },
        {
          "output_type": "display_data",
          "data": {
            "text/plain": [
              "<IPython.core.display.Javascript object>"
            ],
            "application/javascript": [
              "download(\"download_c890029a-583a-42d0-b441-e00e5aca8a02\", \"KNN.csv\", 5554563)"
            ]
          },
          "metadata": {}
        }
      ]
    }
  ]
}